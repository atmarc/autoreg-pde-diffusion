{
 "cells": [
  {
   "cell_type": "code",
   "execution_count": 3,
   "metadata": {},
   "outputs": [],
   "source": [
    "%load_ext autoreload\n",
    "%autoreload 2\n",
    "\n",
    "\n",
    "import torch\n",
    "import torch.nn as nn\n",
    "import torch.nn.functional as F\n",
    "from torch.utils.data import Dataset, DataLoader, SequentialSampler, RandomSampler\n",
    "\n",
    "from einops import rearrange\n",
    "from functools import partial\n",
    "\n",
    "import matplotlib.pyplot as plt\n",
    "import numpy as np\n",
    "\n",
    "import math\n",
    "import os, json\n",
    "from typing import List,Tuple,Dict\n",
    "from torch.nn.utils import prune\n",
    "\n",
    "from turbpred.model_diffusion_blocks import Unet, ConvNextBlock\n",
    "from turbpred.model import PredictionModel\n",
    "from turbpred.turbulence_dataset import TurbulenceDataset\n",
    "from turbpred.params import DataParams, TrainingParams, LossParams, ModelParamsEncoder, ModelParamsDecoder, ModelParamsLatent"
   ]
  },
  {
   "cell_type": "code",
   "execution_count": 14,
   "metadata": {},
   "outputs": [],
   "source": [
    "modelName = \"2D_Inc/128_unet-m2\"\n",
    "p_d = DataParams(batch=32, augmentations=[\"normalize\"], sequenceLength=[2,2], randSeqOffset=True,\n",
    "            dataSize=[64,32], dimension=2, simFields=[\"pres\"], simParams=[\"rey\"], normalizeMode=\"incMixed\")\n",
    "# p_d = DataParams(batch=32, augmentations=[\"normalize\"], sequenceLength=[2,2], randSeqOffset=True,\n",
    "#             dataSize=[128,64], dimension=2, simFields=[\"pres\"], simParams=[\"rey\"], normalizeMode=\"incMixed\")\n",
    "\n",
    "p_t = TrainingParams(epochs=1000, lr=0.0001)\n",
    "p_l = LossParams(recMSE=0.0, predMSE=1.0)\n",
    "p_me = None\n",
    "p_ml = None\n",
    "\n",
    "p_md2 = ModelParamsDecoder(arch=\"unet\", pretrained=False, trainingNoise=0.0, convnext_mult=1)\n",
    "# pretrainPath = \"../runs/2D_Inc/128_unet-m2_17/Model.pth\"\n",
    "base_model = PredictionModel(p_d, p_t, p_l, p_me, p_md2, p_ml, \"\")\n"
   ]
  },
  {
   "cell_type": "markdown",
   "metadata": {},
   "source": [
    "# Sparcity"
   ]
  },
  {
   "cell_type": "code",
   "execution_count": 10,
   "metadata": {},
   "outputs": [],
   "source": [
    "def evaluate_sparcity(model):\n",
    "    total_params = 0\n",
    "    total_zeros = 0\n",
    "\n",
    "    for name, module in model.named_modules():\n",
    "        if hasattr(module, \"weight\"):\n",
    "            num_params = sum(p.numel() for p in module.parameters())\n",
    "            total_params += num_params\n",
    "            total_zeros += torch.sum(module.weight == 0)\n",
    "\n",
    "    return total_params, total_zeros.item()\n"
   ]
  },
  {
   "cell_type": "code",
   "execution_count": 11,
   "metadata": {},
   "outputs": [],
   "source": [
    "def _prune(model:PredictionModel, prune_type:str, pruning_percentage:float):\n",
    "    \"\"\" Prune Unet model \"\"\"\n",
    "\n",
    "    unet = model.modelDecoder\n",
    "    conv_next_modules = [module for module in unet.modules() if type(module) is ConvNextBlock]\n",
    "    \n",
    "    if prune_type == 'L1':\n",
    "        norm_n = 1\n",
    "    elif prune_type == 'L2':\n",
    "        norm_n = 2\n",
    "    else:\n",
    "        raise Exception(\"Wrong prune_type\")\n",
    "\n",
    "    for module in conv_next_modules:\n",
    "        # We prune modules of ConvNextBlock that are scaled by convnext_mult \n",
    "        # module.net[1] --> Conv2D\n",
    "        # module.net[3] --> GroupNorm\n",
    "        # module.net[4] --> Conv2D\n",
    "        \n",
    "        prune.ln_structured(module.net[1], 'weight', amount=pruning_percentage, dim=0, n=norm_n)\n",
    "        # prune.ln_structured(module.net[3], 'weight', amount=pruning_percentage, dim=1, n=norm_n)\n",
    "        prune.ln_structured(module.net[4], 'weight', amount=pruning_percentage, dim=1, n=norm_n)\n",
    "\n",
    "\n",
    "def prune_remove(model):\n",
    "    unet = model.modelDecoder\n",
    "    for name, module in unet.named_modules():\n",
    "        if type(module) is ConvNextBlock:\n",
    "            # print(name)\n",
    "            prune.remove(module.net[1], 'weight')\n",
    "            prune.remove(module.net[4], 'weight')"
   ]
  },
  {
   "cell_type": "code",
   "execution_count": 31,
   "metadata": {},
   "outputs": [],
   "source": [
    "p_md = ModelParamsDecoder(arch=\"unet\", pretrained=False, trainingNoise=0.0, convnext_mult=3)\n",
    "pruned_pretrainPath = \"../runs/2D_Inc/128_unet-m2_07/Model.pth\"\n",
    "pruned_model = PredictionModel(p_d, p_t, p_l, p_me, p_md, p_ml, pruned_pretrainPath)"
   ]
  },
  {
   "cell_type": "code",
   "execution_count": 32,
   "metadata": {},
   "outputs": [
    {
     "name": "stdout",
     "output_type": "stream",
     "text": [
      "Base model, 1560222 params, sparcity: 0\n",
      "Pruned model, 3604254 params, sparcity: 0.00%, non-zero:3604253\n"
     ]
    }
   ],
   "source": [
    "total_params, spar = evaluate_sparcity(base_model)\n",
    "print(f\"Base model, {total_params} params, sparcity: {spar}\")\n",
    "\n",
    "total_params, spar = evaluate_sparcity(pruned_model)\n",
    "print(f\"Pruned model, {total_params} params, sparcity: {(spar/total_params):.2f}%, non-zero:{total_params-spar}\")"
   ]
  },
  {
   "cell_type": "code",
   "execution_count": 33,
   "metadata": {},
   "outputs": [
    {
     "name": "stdout",
     "output_type": "stream",
     "text": [
      "Pruned model, 3604254 params, sparcity: 0.00\n",
      "Pruned model, 3604254 params, sparcity: 0.58, non-zeros: 1501493\n"
     ]
    }
   ],
   "source": [
    "total_params, spar = evaluate_sparcity(pruned_model)\n",
    "print(f\"Pruned model, {total_params} params, sparcity: {spar/total_params:.2f}\")\n",
    "\n",
    "for i in range(11):\n",
    "    _prune(pruned_model, \"L2\", 0.1)\n",
    "prune_remove(pruned_model)\n",
    "\n",
    "total_params, spar = evaluate_sparcity(pruned_model)\n",
    "print(f\"Pruned model, {total_params} params, sparcity: {(spar/total_params):.2f}, non-zeros: {total_params - spar}\")"
   ]
  },
  {
   "cell_type": "code",
   "execution_count": 21,
   "metadata": {},
   "outputs": [],
   "source": [
    "mods = [x for x in pruned_model.modelDecoder.modules() if type(x) is ConvNextBlock]\n",
    "\n",
    "weights = [w for n, w in mods[0].net[4].named_parameters() if n == \"weight\"][0]\n",
    "# print(weights.shape)"
   ]
  },
  {
   "cell_type": "code",
   "execution_count": 88,
   "metadata": {},
   "outputs": [
    {
     "data": {
      "text/plain": [
       "(13888056, 5675904)"
      ]
     },
     "execution_count": 88,
     "metadata": {},
     "output_type": "execute_result"
    }
   ],
   "source": [
    "loadedPretrainedWeightDict = torch.load(pruned_pretrainPath)\n",
    "pruned_model.modelDecoder.load_state_dict(loadedPretrainedWeightDict[\"stateDictDecoder\"])\n",
    "\n",
    "evaluate_sparcity(pruned_model)"
   ]
  },
  {
   "cell_type": "code",
   "execution_count": 17,
   "metadata": {},
   "outputs": [
    {
     "name": "stdout",
     "output_type": "stream",
     "text": [
      "modelDecoder.init_conv.weight Parameter\n",
      "modelDecoder.init_conv.bias Parameter\n",
      "modelDecoder.downs.0.0.ds_conv.weight Parameter\n",
      "modelDecoder.downs.0.0.ds_conv.bias Parameter\n",
      "modelDecoder.downs.0.0.net.0.weight Parameter\n",
      "modelDecoder.downs.0.0.net.0.bias Parameter\n",
      "modelDecoder.downs.0.0.net.1.weight Parameter\n",
      "modelDecoder.downs.0.0.net.1.bias Parameter\n",
      "modelDecoder.downs.0.0.net.3.weight Parameter\n",
      "modelDecoder.downs.0.0.net.3.bias Parameter\n",
      "modelDecoder.downs.0.0.net.4.weight Parameter\n",
      "modelDecoder.downs.0.0.net.4.bias Parameter\n",
      "modelDecoder.downs.0.0.res_conv.weight Parameter\n",
      "modelDecoder.downs.0.0.res_conv.bias Parameter\n",
      "modelDecoder.downs.0.1.ds_conv.weight Parameter\n",
      "modelDecoder.downs.0.1.ds_conv.bias Parameter\n",
      "modelDecoder.downs.0.1.net.0.weight Parameter\n",
      "modelDecoder.downs.0.1.net.0.bias Parameter\n",
      "modelDecoder.downs.0.1.net.1.weight Parameter\n",
      "modelDecoder.downs.0.1.net.1.bias Parameter\n",
      "modelDecoder.downs.0.1.net.3.weight Parameter\n",
      "modelDecoder.downs.0.1.net.3.bias Parameter\n",
      "modelDecoder.downs.0.1.net.4.weight Parameter\n",
      "modelDecoder.downs.0.1.net.4.bias Parameter\n",
      "modelDecoder.downs.0.2.fn.fn.to_qkv.weight Parameter\n",
      "modelDecoder.downs.0.2.fn.fn.to_out.0.weight Parameter\n",
      "modelDecoder.downs.0.2.fn.fn.to_out.0.bias Parameter\n",
      "modelDecoder.downs.0.2.fn.fn.to_out.1.weight Parameter\n",
      "modelDecoder.downs.0.2.fn.fn.to_out.1.bias Parameter\n",
      "modelDecoder.downs.0.2.fn.norm.weight Parameter\n",
      "modelDecoder.downs.0.2.fn.norm.bias Parameter\n",
      "modelDecoder.downs.0.3.weight Parameter\n",
      "modelDecoder.downs.0.3.bias Parameter\n",
      "modelDecoder.downs.1.0.ds_conv.weight Parameter\n",
      "modelDecoder.downs.1.0.ds_conv.bias Parameter\n",
      "modelDecoder.downs.1.0.net.0.weight Parameter\n",
      "modelDecoder.downs.1.0.net.0.bias Parameter\n",
      "modelDecoder.downs.1.0.net.1.weight Parameter\n",
      "modelDecoder.downs.1.0.net.1.bias Parameter\n",
      "modelDecoder.downs.1.0.net.3.weight Parameter\n",
      "modelDecoder.downs.1.0.net.3.bias Parameter\n",
      "modelDecoder.downs.1.0.net.4.weight Parameter\n",
      "modelDecoder.downs.1.0.net.4.bias Parameter\n",
      "modelDecoder.downs.1.1.ds_conv.weight Parameter\n",
      "modelDecoder.downs.1.1.ds_conv.bias Parameter\n",
      "modelDecoder.downs.1.1.net.0.weight Parameter\n",
      "modelDecoder.downs.1.1.net.0.bias Parameter\n",
      "modelDecoder.downs.1.1.net.1.weight Parameter\n",
      "modelDecoder.downs.1.1.net.1.bias Parameter\n",
      "modelDecoder.downs.1.1.net.3.weight Parameter\n",
      "modelDecoder.downs.1.1.net.3.bias Parameter\n",
      "modelDecoder.downs.1.1.net.4.weight Parameter\n",
      "modelDecoder.downs.1.1.net.4.bias Parameter\n",
      "modelDecoder.downs.1.2.fn.fn.to_qkv.weight Parameter\n",
      "modelDecoder.downs.1.2.fn.fn.to_out.0.weight Parameter\n",
      "modelDecoder.downs.1.2.fn.fn.to_out.0.bias Parameter\n",
      "modelDecoder.downs.1.2.fn.fn.to_out.1.weight Parameter\n",
      "modelDecoder.downs.1.2.fn.fn.to_out.1.bias Parameter\n",
      "modelDecoder.downs.1.2.fn.norm.weight Parameter\n",
      "modelDecoder.downs.1.2.fn.norm.bias Parameter\n",
      "modelDecoder.downs.1.3.weight Parameter\n",
      "modelDecoder.downs.1.3.bias Parameter\n",
      "modelDecoder.downs.2.0.ds_conv.weight Parameter\n",
      "modelDecoder.downs.2.0.ds_conv.bias Parameter\n",
      "modelDecoder.downs.2.0.net.0.weight Parameter\n",
      "modelDecoder.downs.2.0.net.0.bias Parameter\n",
      "modelDecoder.downs.2.0.net.1.weight Parameter\n",
      "modelDecoder.downs.2.0.net.1.bias Parameter\n",
      "modelDecoder.downs.2.0.net.3.weight Parameter\n",
      "modelDecoder.downs.2.0.net.3.bias Parameter\n",
      "modelDecoder.downs.2.0.net.4.weight Parameter\n",
      "modelDecoder.downs.2.0.net.4.bias Parameter\n",
      "modelDecoder.downs.2.1.ds_conv.weight Parameter\n",
      "modelDecoder.downs.2.1.ds_conv.bias Parameter\n",
      "modelDecoder.downs.2.1.net.0.weight Parameter\n",
      "modelDecoder.downs.2.1.net.0.bias Parameter\n",
      "modelDecoder.downs.2.1.net.1.weight Parameter\n",
      "modelDecoder.downs.2.1.net.1.bias Parameter\n",
      "modelDecoder.downs.2.1.net.3.weight Parameter\n",
      "modelDecoder.downs.2.1.net.3.bias Parameter\n",
      "modelDecoder.downs.2.1.net.4.weight Parameter\n",
      "modelDecoder.downs.2.1.net.4.bias Parameter\n",
      "modelDecoder.downs.2.2.fn.fn.to_qkv.weight Parameter\n",
      "modelDecoder.downs.2.2.fn.fn.to_out.0.weight Parameter\n",
      "modelDecoder.downs.2.2.fn.fn.to_out.0.bias Parameter\n",
      "modelDecoder.downs.2.2.fn.fn.to_out.1.weight Parameter\n",
      "modelDecoder.downs.2.2.fn.fn.to_out.1.bias Parameter\n",
      "modelDecoder.downs.2.2.fn.norm.weight Parameter\n",
      "modelDecoder.downs.2.2.fn.norm.bias Parameter\n",
      "modelDecoder.ups.0.0.ds_conv.weight Parameter\n",
      "modelDecoder.ups.0.0.ds_conv.bias Parameter\n",
      "modelDecoder.ups.0.0.net.0.weight Parameter\n",
      "modelDecoder.ups.0.0.net.0.bias Parameter\n",
      "modelDecoder.ups.0.0.net.1.weight Parameter\n",
      "modelDecoder.ups.0.0.net.1.bias Parameter\n",
      "modelDecoder.ups.0.0.net.3.weight Parameter\n",
      "modelDecoder.ups.0.0.net.3.bias Parameter\n",
      "modelDecoder.ups.0.0.net.4.weight Parameter\n",
      "modelDecoder.ups.0.0.net.4.bias Parameter\n",
      "modelDecoder.ups.0.0.res_conv.weight Parameter\n",
      "modelDecoder.ups.0.0.res_conv.bias Parameter\n",
      "modelDecoder.ups.0.1.ds_conv.weight Parameter\n",
      "modelDecoder.ups.0.1.ds_conv.bias Parameter\n",
      "modelDecoder.ups.0.1.net.0.weight Parameter\n",
      "modelDecoder.ups.0.1.net.0.bias Parameter\n",
      "modelDecoder.ups.0.1.net.1.weight Parameter\n",
      "modelDecoder.ups.0.1.net.1.bias Parameter\n",
      "modelDecoder.ups.0.1.net.3.weight Parameter\n",
      "modelDecoder.ups.0.1.net.3.bias Parameter\n",
      "modelDecoder.ups.0.1.net.4.weight Parameter\n",
      "modelDecoder.ups.0.1.net.4.bias Parameter\n",
      "modelDecoder.ups.0.2.fn.fn.to_qkv.weight Parameter\n",
      "modelDecoder.ups.0.2.fn.fn.to_out.0.weight Parameter\n",
      "modelDecoder.ups.0.2.fn.fn.to_out.0.bias Parameter\n",
      "modelDecoder.ups.0.2.fn.fn.to_out.1.weight Parameter\n",
      "modelDecoder.ups.0.2.fn.fn.to_out.1.bias Parameter\n",
      "modelDecoder.ups.0.2.fn.norm.weight Parameter\n",
      "modelDecoder.ups.0.2.fn.norm.bias Parameter\n",
      "modelDecoder.ups.0.3.weight Parameter\n",
      "modelDecoder.ups.0.3.bias Parameter\n",
      "modelDecoder.ups.1.0.ds_conv.weight Parameter\n",
      "modelDecoder.ups.1.0.ds_conv.bias Parameter\n",
      "modelDecoder.ups.1.0.net.0.weight Parameter\n",
      "modelDecoder.ups.1.0.net.0.bias Parameter\n",
      "modelDecoder.ups.1.0.net.1.weight Parameter\n",
      "modelDecoder.ups.1.0.net.1.bias Parameter\n",
      "modelDecoder.ups.1.0.net.3.weight Parameter\n",
      "modelDecoder.ups.1.0.net.3.bias Parameter\n",
      "modelDecoder.ups.1.0.net.4.weight Parameter\n",
      "modelDecoder.ups.1.0.net.4.bias Parameter\n",
      "modelDecoder.ups.1.0.res_conv.weight Parameter\n",
      "modelDecoder.ups.1.0.res_conv.bias Parameter\n",
      "modelDecoder.ups.1.1.ds_conv.weight Parameter\n",
      "modelDecoder.ups.1.1.ds_conv.bias Parameter\n",
      "modelDecoder.ups.1.1.net.0.weight Parameter\n",
      "modelDecoder.ups.1.1.net.0.bias Parameter\n",
      "modelDecoder.ups.1.1.net.1.weight Parameter\n",
      "modelDecoder.ups.1.1.net.1.bias Parameter\n",
      "modelDecoder.ups.1.1.net.3.weight Parameter\n",
      "modelDecoder.ups.1.1.net.3.bias Parameter\n",
      "modelDecoder.ups.1.1.net.4.weight Parameter\n",
      "modelDecoder.ups.1.1.net.4.bias Parameter\n",
      "modelDecoder.ups.1.2.fn.fn.to_qkv.weight Parameter\n",
      "modelDecoder.ups.1.2.fn.fn.to_out.0.weight Parameter\n",
      "modelDecoder.ups.1.2.fn.fn.to_out.0.bias Parameter\n",
      "modelDecoder.ups.1.2.fn.fn.to_out.1.weight Parameter\n",
      "modelDecoder.ups.1.2.fn.fn.to_out.1.bias Parameter\n",
      "modelDecoder.ups.1.2.fn.norm.weight Parameter\n",
      "modelDecoder.ups.1.2.fn.norm.bias Parameter\n",
      "modelDecoder.ups.1.3.weight Parameter\n",
      "modelDecoder.ups.1.3.bias Parameter\n",
      "modelDecoder.mid_block1.ds_conv.weight Parameter\n",
      "modelDecoder.mid_block1.ds_conv.bias Parameter\n",
      "modelDecoder.mid_block1.net.0.weight Parameter\n",
      "modelDecoder.mid_block1.net.0.bias Parameter\n",
      "modelDecoder.mid_block1.net.1.weight Parameter\n",
      "modelDecoder.mid_block1.net.1.bias Parameter\n",
      "modelDecoder.mid_block1.net.3.weight Parameter\n",
      "modelDecoder.mid_block1.net.3.bias Parameter\n",
      "modelDecoder.mid_block1.net.4.weight Parameter\n",
      "modelDecoder.mid_block1.net.4.bias Parameter\n",
      "modelDecoder.mid_attn.fn.fn.to_qkv.weight Parameter\n",
      "modelDecoder.mid_attn.fn.fn.to_out.weight Parameter\n",
      "modelDecoder.mid_attn.fn.fn.to_out.bias Parameter\n",
      "modelDecoder.mid_attn.fn.norm.weight Parameter\n",
      "modelDecoder.mid_attn.fn.norm.bias Parameter\n",
      "modelDecoder.mid_block2.ds_conv.weight Parameter\n",
      "modelDecoder.mid_block2.ds_conv.bias Parameter\n",
      "modelDecoder.mid_block2.net.0.weight Parameter\n",
      "modelDecoder.mid_block2.net.0.bias Parameter\n",
      "modelDecoder.mid_block2.net.1.weight Parameter\n",
      "modelDecoder.mid_block2.net.1.bias Parameter\n",
      "modelDecoder.mid_block2.net.3.weight Parameter\n",
      "modelDecoder.mid_block2.net.3.bias Parameter\n",
      "modelDecoder.mid_block2.net.4.weight Parameter\n",
      "modelDecoder.mid_block2.net.4.bias Parameter\n",
      "modelDecoder.final_conv.0.ds_conv.weight Parameter\n",
      "modelDecoder.final_conv.0.ds_conv.bias Parameter\n",
      "modelDecoder.final_conv.0.net.0.weight Parameter\n",
      "modelDecoder.final_conv.0.net.0.bias Parameter\n",
      "modelDecoder.final_conv.0.net.1.weight Parameter\n",
      "modelDecoder.final_conv.0.net.1.bias Parameter\n",
      "modelDecoder.final_conv.0.net.3.weight Parameter\n",
      "modelDecoder.final_conv.0.net.3.bias Parameter\n",
      "modelDecoder.final_conv.0.net.4.weight Parameter\n",
      "modelDecoder.final_conv.0.net.4.bias Parameter\n",
      "modelDecoder.final_conv.1.weight Parameter\n",
      "modelDecoder.final_conv.1.bias Parameter\n"
     ]
    }
   ],
   "source": [
    "for name, p in pruned_model.named_parameters():\n",
    "    print(name, type(p).__name__)"
   ]
  },
  {
   "cell_type": "code",
   "execution_count": 45,
   "metadata": {},
   "outputs": [
    {
     "name": "stdout",
     "output_type": "stream",
     "text": [
      "downs.0.0\n",
      "downs.0.1\n",
      "downs.1.0\n",
      "downs.1.1\n",
      "downs.2.0\n",
      "downs.2.1\n",
      "ups.0.0\n",
      "ups.0.1\n",
      "ups.1.0\n",
      "ups.1.1\n",
      "mid_block1\n",
      "mid_block2\n",
      "final_conv.0\n"
     ]
    }
   ],
   "source": [
    "prune_remove(pruned_model)"
   ]
  },
  {
   "cell_type": "code",
   "execution_count": 18,
   "metadata": {},
   "outputs": [
    {
     "data": {
      "text/plain": [
       "(13888056, 5675904, 8212152)"
      ]
     },
     "execution_count": 18,
     "metadata": {},
     "output_type": "execute_result"
    }
   ],
   "source": [
    "nparams, nzeros = evaluate_sparcity(pruned_model)\n",
    "nparams, nzeros, nparams - nzeros"
   ]
  },
  {
   "cell_type": "code",
   "execution_count": 52,
   "metadata": {},
   "outputs": [
    {
     "data": {
      "text/plain": [
       "(5721912, 0)"
      ]
     },
     "execution_count": 52,
     "metadata": {},
     "output_type": "execute_result"
    }
   ],
   "source": [
    "evaluate_sparcity(base_model)\n"
   ]
  },
  {
   "cell_type": "code",
   "execution_count": 4,
   "metadata": {},
   "outputs": [],
   "source": [
    "p_d = DataParams(batch=32, augmentations=[\"normalize\", \"resize\"], sequenceLength=[2,2], randSeqOffset=True,\n",
    "            dataSize=[64,32], dimension=2, simFields=[\"pres\"], simParams=[\"rey\"], normalizeMode=\"incMixed\")\n",
    "\n"
   ]
  },
  {
   "cell_type": "code",
   "execution_count": 5,
   "metadata": {},
   "outputs": [
    {
     "data": {
      "text/plain": [
       "(4, 4)"
      ]
     },
     "execution_count": 5,
     "metadata": {},
     "output_type": "execute_result"
    }
   ],
   "source": [
    "# base_model.modelDecoder.\n",
    "inChannels = (p_d.dimension + len(p_d.simFields) + len(p_d.simParams))\n",
    "outChannels = p_d.dimension + len(p_d.simFields) + len(p_d.simParams)\n",
    "inChannels, outChannels "
   ]
  },
  {
   "cell_type": "code",
   "execution_count": 1,
   "metadata": {},
   "outputs": [
    {
     "ename": "NameError",
     "evalue": "name 'Unet' is not defined",
     "output_type": "error",
     "traceback": [
      "\u001b[0;31m---------------------------------------------------------------------------\u001b[0m",
      "\u001b[0;31mNameError\u001b[0m                                 Traceback (most recent call last)",
      "Cell \u001b[0;32mIn[1], line 1\u001b[0m\n\u001b[0;32m----> 1\u001b[0m model_prova \u001b[38;5;241m=\u001b[39m \u001b[43mUnet\u001b[49m(dim\u001b[38;5;241m=\u001b[39m\u001b[38;5;241m64\u001b[39m, out_dim\u001b[38;5;241m=\u001b[39moutChannels, channels\u001b[38;5;241m=\u001b[39minChannels, dim_mults\u001b[38;5;241m=\u001b[39m(\u001b[38;5;241m1\u001b[39m,\u001b[38;5;241m1\u001b[39m,\u001b[38;5;241m1\u001b[39m), use_convnext\u001b[38;5;241m=\u001b[39m\u001b[38;5;28;01mTrue\u001b[39;00m, convnext_mult\u001b[38;5;241m=\u001b[39m\u001b[38;5;241m1\u001b[39m, with_time_emb\u001b[38;5;241m=\u001b[39m\u001b[38;5;28;01mFalse\u001b[39;00m)\n",
      "\u001b[0;31mNameError\u001b[0m: name 'Unet' is not defined"
     ]
    }
   ],
   "source": [
    "model_prova = Unet(dim=64, out_dim=outChannels, channels=inChannels, dim_mults=(1,1,1), use_convnext=True, convnext_mult=1, with_time_emb=False)"
   ]
  },
  {
   "cell_type": "code",
   "execution_count": 2,
   "metadata": {},
   "outputs": [
    {
     "ename": "NameError",
     "evalue": "name 'evaluate_sparcity' is not defined",
     "output_type": "error",
     "traceback": [
      "\u001b[0;31m---------------------------------------------------------------------------\u001b[0m",
      "\u001b[0;31mNameError\u001b[0m                                 Traceback (most recent call last)",
      "Cell \u001b[0;32mIn[2], line 1\u001b[0m\n\u001b[0;32m----> 1\u001b[0m \u001b[43mevaluate_sparcity\u001b[49m(model_prova)\n",
      "\u001b[0;31mNameError\u001b[0m: name 'evaluate_sparcity' is not defined"
     ]
    }
   ],
   "source": [
    "evaluate_sparcity(model_prova)"
   ]
  },
  {
   "cell_type": "markdown",
   "metadata": {},
   "source": [
    "# Testing"
   ]
  },
  {
   "cell_type": "code",
   "execution_count": 54,
   "metadata": {},
   "outputs": [],
   "source": [
    "data_folder = \"../data\"\n",
    "\n",
    "testSets = {\n",
    "    \"lowRey\":\n",
    "        TurbulenceDataset(\"Test Low Reynolds 100-200\", [data_folder], filterTop=[\"128_inc\"], filterSim=[[82,84,86,88,90]],\n",
    "                filterFrame=[(1000,1150)], sequenceLength=[[60,2]], simFields=p_d.simFields, simParams=p_d.simParams, printLevel=\"sim\"),\n",
    "    \"highRey\" :\n",
    "        TurbulenceDataset(\"Test High Reynolds 900-1000\", [data_folder], filterTop=[\"128_inc\"], filterSim=[[0,2,4,6,8]],\n",
    "                filterFrame=[(1000,1150)], sequenceLength=[[60,2]], simFields=p_d.simFields, simParams=p_d.simParams, printLevel=\"sim\"),\n",
    "    \"varReyIn\" :\n",
    "        TurbulenceDataset(\"Test Varying Reynolds Number (200-900)\", [data_folder], filterTop=[\"128_reyVar\"], filterSim=[[0]],\n",
    "                filterFrame=[(300,800)], sequenceLength=[[250,2]], simFields=p_d.simFields, simParams=p_d.simParams, printLevel=\"sim\"),\n",
    "}"
   ]
  },
  {
   "cell_type": "code",
   "execution_count": null,
   "metadata": {},
   "outputs": [],
   "source": [
    "testers = []\n",
    "testHistories = []\n",
    "for shortName, testSet in testSets.items():\n",
    "    p_d_test = copy.deepcopy(p_d)\n",
    "    p_d_test.augmentations = [\"normalize\"]\n",
    "    p_d_test.sequenceLength = testSet.sequenceLength\n",
    "    p_d_test.randSeqOffset = False\n",
    "    if p_d.sequenceLength[0] != p_d_test.sequenceLength[0]:\n",
    "        p_d_test.batch = 1\n",
    "\n",
    "    transTest = Transforms(p_d_test)\n",
    "    testSet.transform = transTest\n",
    "    testSet.printDatasetInfo()\n",
    "    testSampler = SequentialSampler(testSet)\n",
    "    #testSampler = SubsetRandomSampler(range(2))\n",
    "    testLoader = DataLoader(testSet, sampler=testSampler,\n",
    "                    batch_size=p_d_test.batch, drop_last=False, num_workers=4)\n",
    "    testHistory = LossHistory(shortName, testSet.name, logger.tfWriter, len(testLoader),\n",
    "                                100, 100, printInterval=0, logInterval=0, simFields=p_d.simFields)\n",
    "    tester = Tester(model, testLoader, criterion, testHistory, p_t)\n",
    "    testers += [tester]\n",
    "    testHistories += [testHistory]"
   ]
  }
 ],
 "metadata": {
  "kernelspec": {
   "display_name": "Python 3",
   "language": "python",
   "name": "python3"
  },
  "language_info": {
   "codemirror_mode": {
    "name": "ipython",
    "version": 3
   },
   "file_extension": ".py",
   "mimetype": "text/x-python",
   "name": "python",
   "nbconvert_exporter": "python",
   "pygments_lexer": "ipython3",
   "version": "3.10.12"
  }
 },
 "nbformat": 4,
 "nbformat_minor": 2
}
