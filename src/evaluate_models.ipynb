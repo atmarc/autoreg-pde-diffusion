{
 "cells": [
  {
   "cell_type": "code",
   "execution_count": 5,
   "metadata": {},
   "outputs": [
    {
     "name": "stdout",
     "output_type": "stream",
     "text": [
      "The autoreload extension is already loaded. To reload it, use:\n",
      "  %reload_ext autoreload\n"
     ]
    }
   ],
   "source": [
    "%load_ext autoreload\n",
    "%autoreload 2\n",
    "\n",
    "\n",
    "import torch\n",
    "import torch.nn as nn\n",
    "import torch.nn.functional as F\n",
    "from torch.utils.data import Dataset, DataLoader, SequentialSampler, RandomSampler\n",
    "\n",
    "from einops import rearrange\n",
    "from functools import partial\n",
    "\n",
    "import matplotlib.pyplot as plt\n",
    "import numpy as np\n",
    "import copy\n",
    "import math\n",
    "import os, json\n",
    "from typing import List,Tuple,Dict\n",
    "from torch.nn.utils import prune\n",
    "\n",
    "from turbpred.data_transformations import Transforms\n",
    "from turbpred.model_diffusion_blocks import Unet, ConvNextBlock\n",
    "from turbpred.model import PredictionModel\n",
    "from turbpred.turbulence_dataset import TurbulenceDataset\n",
    "from turbpred.params import DataParams, TrainingParams, LossParams, ModelParamsEncoder, ModelParamsDecoder, ModelParamsLatent\n",
    "from turbpred.loss import PredictionLoss\n",
    "from turbpred.loss_history import LossHistory"
   ]
  },
  {
   "cell_type": "code",
   "execution_count": 4,
   "metadata": {},
   "outputs": [],
   "source": [
    "modelName = \"2D_Inc/128_unet-m2\"\n",
    "p_d = DataParams(batch=32, augmentations=[\"normalize\"], sequenceLength=[2,2], randSeqOffset=True,\n",
    "            dataSize=[104,52], dimension=2, simFields=[\"pres\"], simParams=[\"rey\"], normalizeMode=\"incMixed\")\n",
    "# p_d = DataParams(batch=32, augmentations=[\"normalize\"], sequenceLength=[2,2], randSeqOffset=True,\n",
    "#             dataSize=[128,64], dimension=2, simFields=[\"pres\"], simParams=[\"rey\"], normalizeMode=\"incMixed\")\n",
    "\n",
    "p_t = TrainingParams(epochs=1000, lr=0.0001)\n",
    "p_l = LossParams(recMSE=0.0, predMSE=1.0)\n",
    "p_me = None\n",
    "p_ml = None\n",
    "\n",
    "p_md2 = ModelParamsDecoder(arch=\"unet\", pretrained=False, trainingNoise=0.0, convnext_mult=1)\n",
    "# pretrainPath = \"../runs/2D_Inc/128_unet-m2_17/Model.pth\"\n",
    "base_model = PredictionModel(p_d, p_t, p_l, p_me, p_md2, p_ml, \"\")\n"
   ]
  },
  {
   "cell_type": "code",
   "execution_count": 7,
   "metadata": {},
   "outputs": [],
   "source": [
    "testSets = {\n",
    "    \"lowRey\":\n",
    "        TurbulenceDataset(\"Test Low Reynolds 100-200\", [\"../data\"], filterTop=[\"128_inc\"], filterSim=[[82,84,86,88,90]],\n",
    "                filterFrame=[(1000,1150)], sequenceLength=[[60,2]], simFields=p_d.simFields, simParams=p_d.simParams, printLevel=\"sim\"),\n",
    "    \"highRey\" :\n",
    "        TurbulenceDataset(\"Test High Reynolds 900-1000\", [\"../data\"], filterTop=[\"128_inc\"], filterSim=[[0,2,4,6,8]],\n",
    "                filterFrame=[(1000,1150)], sequenceLength=[[60,2]], simFields=p_d.simFields, simParams=p_d.simParams, printLevel=\"sim\"),\n",
    "}"
   ]
  },
  {
   "cell_type": "markdown",
   "metadata": {},
   "source": [
    "# Sparcity"
   ]
  },
  {
   "cell_type": "code",
   "execution_count": 9,
   "metadata": {},
   "outputs": [],
   "source": [
    "def evaluate_sparcity(model):\n",
    "    total_params = 0\n",
    "    total_zeros = 0\n",
    "\n",
    "    for name, module in model.named_modules():\n",
    "        if hasattr(module, \"weight\"):\n",
    "            num_params = sum(p.numel() for p in module.parameters())\n",
    "            total_params += num_params\n",
    "            total_zeros += torch.sum(module.weight == 0)\n",
    "\n",
    "    return total_params, total_zeros.item()\n"
   ]
  },
  {
   "cell_type": "code",
   "execution_count": 10,
   "metadata": {},
   "outputs": [],
   "source": [
    "def _prune(model:PredictionModel, prune_type:str, pruning_percentage:float):\n",
    "    \"\"\" Prune Unet model \"\"\"\n",
    "\n",
    "    unet = model.modelDecoder\n",
    "    conv_next_modules = [module for module in unet.modules() if type(module) is ConvNextBlock]\n",
    "    \n",
    "    if prune_type == 'L1':\n",
    "        norm_n = 1\n",
    "    elif prune_type == 'L2':\n",
    "        norm_n = 2\n",
    "    else:\n",
    "        raise Exception(\"Wrong prune_type\")\n",
    "\n",
    "    for module in conv_next_modules:\n",
    "        # We prune modules of ConvNextBlock that are scaled by convnext_mult \n",
    "        # module.net[1] --> Conv2D\n",
    "        # module.net[3] --> GroupNorm\n",
    "        # module.net[4] --> Conv2D\n",
    "        \n",
    "        prune.ln_structured(module.net[1], 'weight', amount=pruning_percentage, dim=0, n=norm_n)\n",
    "        # prune.ln_structured(module.net[3], 'weight', amount=pruning_percentage, dim=1, n=norm_n)\n",
    "        prune.ln_structured(module.net[4], 'weight', amount=pruning_percentage, dim=1, n=norm_n)\n",
    "\n",
    "\n",
    "def prune_remove(model):\n",
    "    unet = model.modelDecoder\n",
    "    for name, module in unet.named_modules():\n",
    "        if type(module) is ConvNextBlock:\n",
    "            # print(name)\n",
    "            prune.remove(module.net[1], 'weight')\n",
    "            prune.remove(module.net[4], 'weight')"
   ]
  },
  {
   "cell_type": "code",
   "execution_count": 8,
   "metadata": {},
   "outputs": [],
   "source": [
    "p_md = ModelParamsDecoder(arch=\"unet\", pretrained=False, trainingNoise=0.0, convnext_mult=4)\n",
    "pruned_pretrainPath = \"../runs/2D_Inc/128_unet-m2_102/Model.pth\"\n",
    "pruned_model = PredictionModel(p_d, p_t, p_l, p_me, p_md, p_ml, pruned_pretrainPath)"
   ]
  },
  {
   "cell_type": "code",
   "execution_count": 56,
   "metadata": {},
   "outputs": [
    {
     "name": "stdout",
     "output_type": "stream",
     "text": [
      "Base model, 3856096 params, sparcity: 0\n",
      "Pruned model, 11944072 params, sparcity: 0.00%, non-zero:11944072\n"
     ]
    }
   ],
   "source": [
    "total_params, spar = evaluate_sparcity(base_model)\n",
    "print(f\"Base model, {total_params} params, sparcity: {spar}\")\n",
    "\n",
    "total_params, spar = evaluate_sparcity(pruned_model)\n",
    "print(f\"Pruned model, {total_params} params, sparcity: {(spar/total_params):.2f}%, non-zero:{total_params-spar}\")"
   ]
  },
  {
   "cell_type": "code",
   "execution_count": 57,
   "metadata": {},
   "outputs": [
    {
     "name": "stdout",
     "output_type": "stream",
     "text": [
      "Pruned model, 11944072 params, sparcity: 0.00\n",
      "Pruned model, 11944072 params, sparcity: 0.70, non-zeros: 3635308\n"
     ]
    }
   ],
   "source": [
    "total_params, spar = evaluate_sparcity(pruned_model)\n",
    "print(f\"Pruned model, {total_params} params, sparcity: {spar/total_params:.2f}\")\n",
    "\n",
    "for i in range(14):\n",
    "    _prune(pruned_model, \"L2\", 0.1)\n",
    "prune_remove(pruned_model)\n",
    "\n",
    "total_params, spar = evaluate_sparcity(pruned_model)\n",
    "print(f\"Pruned model, {total_params} params, sparcity: {(spar/total_params):.2f}, non-zeros: {total_params - spar}\")"
   ]
  },
  {
   "cell_type": "code",
   "execution_count": 21,
   "metadata": {},
   "outputs": [],
   "source": [
    "mods = [x for x in pruned_model.modelDecoder.modules() if type(x) is ConvNextBlock]\n",
    "\n",
    "weights = [w for n, w in mods[0].net[4].named_parameters() if n == \"weight\"][0]\n",
    "# print(weights.shape)"
   ]
  },
  {
   "cell_type": "code",
   "execution_count": 88,
   "metadata": {},
   "outputs": [
    {
     "data": {
      "text/plain": [
       "(13888056, 5675904)"
      ]
     },
     "execution_count": 88,
     "metadata": {},
     "output_type": "execute_result"
    }
   ],
   "source": [
    "loadedPretrainedWeightDict = torch.load(pruned_pretrainPath)\n",
    "pruned_model.modelDecoder.load_state_dict(loadedPretrainedWeightDict[\"stateDictDecoder\"])\n",
    "\n",
    "evaluate_sparcity(pruned_model)"
   ]
  },
  {
   "cell_type": "code",
   "execution_count": 17,
   "metadata": {},
   "outputs": [
    {
     "name": "stdout",
     "output_type": "stream",
     "text": [
      "modelDecoder.init_conv.weight Parameter\n",
      "modelDecoder.init_conv.bias Parameter\n",
      "modelDecoder.downs.0.0.ds_conv.weight Parameter\n",
      "modelDecoder.downs.0.0.ds_conv.bias Parameter\n",
      "modelDecoder.downs.0.0.net.0.weight Parameter\n",
      "modelDecoder.downs.0.0.net.0.bias Parameter\n",
      "modelDecoder.downs.0.0.net.1.weight Parameter\n",
      "modelDecoder.downs.0.0.net.1.bias Parameter\n",
      "modelDecoder.downs.0.0.net.3.weight Parameter\n",
      "modelDecoder.downs.0.0.net.3.bias Parameter\n",
      "modelDecoder.downs.0.0.net.4.weight Parameter\n",
      "modelDecoder.downs.0.0.net.4.bias Parameter\n",
      "modelDecoder.downs.0.0.res_conv.weight Parameter\n",
      "modelDecoder.downs.0.0.res_conv.bias Parameter\n",
      "modelDecoder.downs.0.1.ds_conv.weight Parameter\n",
      "modelDecoder.downs.0.1.ds_conv.bias Parameter\n",
      "modelDecoder.downs.0.1.net.0.weight Parameter\n",
      "modelDecoder.downs.0.1.net.0.bias Parameter\n",
      "modelDecoder.downs.0.1.net.1.weight Parameter\n",
      "modelDecoder.downs.0.1.net.1.bias Parameter\n",
      "modelDecoder.downs.0.1.net.3.weight Parameter\n",
      "modelDecoder.downs.0.1.net.3.bias Parameter\n",
      "modelDecoder.downs.0.1.net.4.weight Parameter\n",
      "modelDecoder.downs.0.1.net.4.bias Parameter\n",
      "modelDecoder.downs.0.2.fn.fn.to_qkv.weight Parameter\n",
      "modelDecoder.downs.0.2.fn.fn.to_out.0.weight Parameter\n",
      "modelDecoder.downs.0.2.fn.fn.to_out.0.bias Parameter\n",
      "modelDecoder.downs.0.2.fn.fn.to_out.1.weight Parameter\n",
      "modelDecoder.downs.0.2.fn.fn.to_out.1.bias Parameter\n",
      "modelDecoder.downs.0.2.fn.norm.weight Parameter\n",
      "modelDecoder.downs.0.2.fn.norm.bias Parameter\n",
      "modelDecoder.downs.0.3.weight Parameter\n",
      "modelDecoder.downs.0.3.bias Parameter\n",
      "modelDecoder.downs.1.0.ds_conv.weight Parameter\n",
      "modelDecoder.downs.1.0.ds_conv.bias Parameter\n",
      "modelDecoder.downs.1.0.net.0.weight Parameter\n",
      "modelDecoder.downs.1.0.net.0.bias Parameter\n",
      "modelDecoder.downs.1.0.net.1.weight Parameter\n",
      "modelDecoder.downs.1.0.net.1.bias Parameter\n",
      "modelDecoder.downs.1.0.net.3.weight Parameter\n",
      "modelDecoder.downs.1.0.net.3.bias Parameter\n",
      "modelDecoder.downs.1.0.net.4.weight Parameter\n",
      "modelDecoder.downs.1.0.net.4.bias Parameter\n",
      "modelDecoder.downs.1.1.ds_conv.weight Parameter\n",
      "modelDecoder.downs.1.1.ds_conv.bias Parameter\n",
      "modelDecoder.downs.1.1.net.0.weight Parameter\n",
      "modelDecoder.downs.1.1.net.0.bias Parameter\n",
      "modelDecoder.downs.1.1.net.1.weight Parameter\n",
      "modelDecoder.downs.1.1.net.1.bias Parameter\n",
      "modelDecoder.downs.1.1.net.3.weight Parameter\n",
      "modelDecoder.downs.1.1.net.3.bias Parameter\n",
      "modelDecoder.downs.1.1.net.4.weight Parameter\n",
      "modelDecoder.downs.1.1.net.4.bias Parameter\n",
      "modelDecoder.downs.1.2.fn.fn.to_qkv.weight Parameter\n",
      "modelDecoder.downs.1.2.fn.fn.to_out.0.weight Parameter\n",
      "modelDecoder.downs.1.2.fn.fn.to_out.0.bias Parameter\n",
      "modelDecoder.downs.1.2.fn.fn.to_out.1.weight Parameter\n",
      "modelDecoder.downs.1.2.fn.fn.to_out.1.bias Parameter\n",
      "modelDecoder.downs.1.2.fn.norm.weight Parameter\n",
      "modelDecoder.downs.1.2.fn.norm.bias Parameter\n",
      "modelDecoder.downs.1.3.weight Parameter\n",
      "modelDecoder.downs.1.3.bias Parameter\n",
      "modelDecoder.downs.2.0.ds_conv.weight Parameter\n",
      "modelDecoder.downs.2.0.ds_conv.bias Parameter\n",
      "modelDecoder.downs.2.0.net.0.weight Parameter\n",
      "modelDecoder.downs.2.0.net.0.bias Parameter\n",
      "modelDecoder.downs.2.0.net.1.weight Parameter\n",
      "modelDecoder.downs.2.0.net.1.bias Parameter\n",
      "modelDecoder.downs.2.0.net.3.weight Parameter\n",
      "modelDecoder.downs.2.0.net.3.bias Parameter\n",
      "modelDecoder.downs.2.0.net.4.weight Parameter\n",
      "modelDecoder.downs.2.0.net.4.bias Parameter\n",
      "modelDecoder.downs.2.1.ds_conv.weight Parameter\n",
      "modelDecoder.downs.2.1.ds_conv.bias Parameter\n",
      "modelDecoder.downs.2.1.net.0.weight Parameter\n",
      "modelDecoder.downs.2.1.net.0.bias Parameter\n",
      "modelDecoder.downs.2.1.net.1.weight Parameter\n",
      "modelDecoder.downs.2.1.net.1.bias Parameter\n",
      "modelDecoder.downs.2.1.net.3.weight Parameter\n",
      "modelDecoder.downs.2.1.net.3.bias Parameter\n",
      "modelDecoder.downs.2.1.net.4.weight Parameter\n",
      "modelDecoder.downs.2.1.net.4.bias Parameter\n",
      "modelDecoder.downs.2.2.fn.fn.to_qkv.weight Parameter\n",
      "modelDecoder.downs.2.2.fn.fn.to_out.0.weight Parameter\n",
      "modelDecoder.downs.2.2.fn.fn.to_out.0.bias Parameter\n",
      "modelDecoder.downs.2.2.fn.fn.to_out.1.weight Parameter\n",
      "modelDecoder.downs.2.2.fn.fn.to_out.1.bias Parameter\n",
      "modelDecoder.downs.2.2.fn.norm.weight Parameter\n",
      "modelDecoder.downs.2.2.fn.norm.bias Parameter\n",
      "modelDecoder.ups.0.0.ds_conv.weight Parameter\n",
      "modelDecoder.ups.0.0.ds_conv.bias Parameter\n",
      "modelDecoder.ups.0.0.net.0.weight Parameter\n",
      "modelDecoder.ups.0.0.net.0.bias Parameter\n",
      "modelDecoder.ups.0.0.net.1.weight Parameter\n",
      "modelDecoder.ups.0.0.net.1.bias Parameter\n",
      "modelDecoder.ups.0.0.net.3.weight Parameter\n",
      "modelDecoder.ups.0.0.net.3.bias Parameter\n",
      "modelDecoder.ups.0.0.net.4.weight Parameter\n",
      "modelDecoder.ups.0.0.net.4.bias Parameter\n",
      "modelDecoder.ups.0.0.res_conv.weight Parameter\n",
      "modelDecoder.ups.0.0.res_conv.bias Parameter\n",
      "modelDecoder.ups.0.1.ds_conv.weight Parameter\n",
      "modelDecoder.ups.0.1.ds_conv.bias Parameter\n",
      "modelDecoder.ups.0.1.net.0.weight Parameter\n",
      "modelDecoder.ups.0.1.net.0.bias Parameter\n",
      "modelDecoder.ups.0.1.net.1.weight Parameter\n",
      "modelDecoder.ups.0.1.net.1.bias Parameter\n",
      "modelDecoder.ups.0.1.net.3.weight Parameter\n",
      "modelDecoder.ups.0.1.net.3.bias Parameter\n",
      "modelDecoder.ups.0.1.net.4.weight Parameter\n",
      "modelDecoder.ups.0.1.net.4.bias Parameter\n",
      "modelDecoder.ups.0.2.fn.fn.to_qkv.weight Parameter\n",
      "modelDecoder.ups.0.2.fn.fn.to_out.0.weight Parameter\n",
      "modelDecoder.ups.0.2.fn.fn.to_out.0.bias Parameter\n",
      "modelDecoder.ups.0.2.fn.fn.to_out.1.weight Parameter\n",
      "modelDecoder.ups.0.2.fn.fn.to_out.1.bias Parameter\n",
      "modelDecoder.ups.0.2.fn.norm.weight Parameter\n",
      "modelDecoder.ups.0.2.fn.norm.bias Parameter\n",
      "modelDecoder.ups.0.3.weight Parameter\n",
      "modelDecoder.ups.0.3.bias Parameter\n",
      "modelDecoder.ups.1.0.ds_conv.weight Parameter\n",
      "modelDecoder.ups.1.0.ds_conv.bias Parameter\n",
      "modelDecoder.ups.1.0.net.0.weight Parameter\n",
      "modelDecoder.ups.1.0.net.0.bias Parameter\n",
      "modelDecoder.ups.1.0.net.1.weight Parameter\n",
      "modelDecoder.ups.1.0.net.1.bias Parameter\n",
      "modelDecoder.ups.1.0.net.3.weight Parameter\n",
      "modelDecoder.ups.1.0.net.3.bias Parameter\n",
      "modelDecoder.ups.1.0.net.4.weight Parameter\n",
      "modelDecoder.ups.1.0.net.4.bias Parameter\n",
      "modelDecoder.ups.1.0.res_conv.weight Parameter\n",
      "modelDecoder.ups.1.0.res_conv.bias Parameter\n",
      "modelDecoder.ups.1.1.ds_conv.weight Parameter\n",
      "modelDecoder.ups.1.1.ds_conv.bias Parameter\n",
      "modelDecoder.ups.1.1.net.0.weight Parameter\n",
      "modelDecoder.ups.1.1.net.0.bias Parameter\n",
      "modelDecoder.ups.1.1.net.1.weight Parameter\n",
      "modelDecoder.ups.1.1.net.1.bias Parameter\n",
      "modelDecoder.ups.1.1.net.3.weight Parameter\n",
      "modelDecoder.ups.1.1.net.3.bias Parameter\n",
      "modelDecoder.ups.1.1.net.4.weight Parameter\n",
      "modelDecoder.ups.1.1.net.4.bias Parameter\n",
      "modelDecoder.ups.1.2.fn.fn.to_qkv.weight Parameter\n",
      "modelDecoder.ups.1.2.fn.fn.to_out.0.weight Parameter\n",
      "modelDecoder.ups.1.2.fn.fn.to_out.0.bias Parameter\n",
      "modelDecoder.ups.1.2.fn.fn.to_out.1.weight Parameter\n",
      "modelDecoder.ups.1.2.fn.fn.to_out.1.bias Parameter\n",
      "modelDecoder.ups.1.2.fn.norm.weight Parameter\n",
      "modelDecoder.ups.1.2.fn.norm.bias Parameter\n",
      "modelDecoder.ups.1.3.weight Parameter\n",
      "modelDecoder.ups.1.3.bias Parameter\n",
      "modelDecoder.mid_block1.ds_conv.weight Parameter\n",
      "modelDecoder.mid_block1.ds_conv.bias Parameter\n",
      "modelDecoder.mid_block1.net.0.weight Parameter\n",
      "modelDecoder.mid_block1.net.0.bias Parameter\n",
      "modelDecoder.mid_block1.net.1.weight Parameter\n",
      "modelDecoder.mid_block1.net.1.bias Parameter\n",
      "modelDecoder.mid_block1.net.3.weight Parameter\n",
      "modelDecoder.mid_block1.net.3.bias Parameter\n",
      "modelDecoder.mid_block1.net.4.weight Parameter\n",
      "modelDecoder.mid_block1.net.4.bias Parameter\n",
      "modelDecoder.mid_attn.fn.fn.to_qkv.weight Parameter\n",
      "modelDecoder.mid_attn.fn.fn.to_out.weight Parameter\n",
      "modelDecoder.mid_attn.fn.fn.to_out.bias Parameter\n",
      "modelDecoder.mid_attn.fn.norm.weight Parameter\n",
      "modelDecoder.mid_attn.fn.norm.bias Parameter\n",
      "modelDecoder.mid_block2.ds_conv.weight Parameter\n",
      "modelDecoder.mid_block2.ds_conv.bias Parameter\n",
      "modelDecoder.mid_block2.net.0.weight Parameter\n",
      "modelDecoder.mid_block2.net.0.bias Parameter\n",
      "modelDecoder.mid_block2.net.1.weight Parameter\n",
      "modelDecoder.mid_block2.net.1.bias Parameter\n",
      "modelDecoder.mid_block2.net.3.weight Parameter\n",
      "modelDecoder.mid_block2.net.3.bias Parameter\n",
      "modelDecoder.mid_block2.net.4.weight Parameter\n",
      "modelDecoder.mid_block2.net.4.bias Parameter\n",
      "modelDecoder.final_conv.0.ds_conv.weight Parameter\n",
      "modelDecoder.final_conv.0.ds_conv.bias Parameter\n",
      "modelDecoder.final_conv.0.net.0.weight Parameter\n",
      "modelDecoder.final_conv.0.net.0.bias Parameter\n",
      "modelDecoder.final_conv.0.net.1.weight Parameter\n",
      "modelDecoder.final_conv.0.net.1.bias Parameter\n",
      "modelDecoder.final_conv.0.net.3.weight Parameter\n",
      "modelDecoder.final_conv.0.net.3.bias Parameter\n",
      "modelDecoder.final_conv.0.net.4.weight Parameter\n",
      "modelDecoder.final_conv.0.net.4.bias Parameter\n",
      "modelDecoder.final_conv.1.weight Parameter\n",
      "modelDecoder.final_conv.1.bias Parameter\n"
     ]
    }
   ],
   "source": [
    "for name, p in pruned_model.named_parameters():\n",
    "    print(name, type(p).__name__)"
   ]
  },
  {
   "cell_type": "code",
   "execution_count": 45,
   "metadata": {},
   "outputs": [
    {
     "name": "stdout",
     "output_type": "stream",
     "text": [
      "downs.0.0\n",
      "downs.0.1\n",
      "downs.1.0\n",
      "downs.1.1\n",
      "downs.2.0\n",
      "downs.2.1\n",
      "ups.0.0\n",
      "ups.0.1\n",
      "ups.1.0\n",
      "ups.1.1\n",
      "mid_block1\n",
      "mid_block2\n",
      "final_conv.0\n"
     ]
    }
   ],
   "source": [
    "prune_remove(pruned_model)"
   ]
  },
  {
   "cell_type": "code",
   "execution_count": 18,
   "metadata": {},
   "outputs": [
    {
     "data": {
      "text/plain": [
       "(13888056, 5675904, 8212152)"
      ]
     },
     "execution_count": 18,
     "metadata": {},
     "output_type": "execute_result"
    }
   ],
   "source": [
    "nparams, nzeros = evaluate_sparcity(pruned_model)\n",
    "nparams, nzeros, nparams - nzeros"
   ]
  },
  {
   "cell_type": "code",
   "execution_count": 52,
   "metadata": {},
   "outputs": [
    {
     "data": {
      "text/plain": [
       "(5721912, 0)"
      ]
     },
     "execution_count": 52,
     "metadata": {},
     "output_type": "execute_result"
    }
   ],
   "source": [
    "evaluate_sparcity(base_model)\n"
   ]
  },
  {
   "cell_type": "code",
   "execution_count": 4,
   "metadata": {},
   "outputs": [],
   "source": [
    "p_d = DataParams(batch=32, augmentations=[\"normalize\", \"resize\"], sequenceLength=[2,2], randSeqOffset=True,\n",
    "            dataSize=[64,32], dimension=2, simFields=[\"pres\"], simParams=[\"rey\"], normalizeMode=\"incMixed\")\n",
    "\n"
   ]
  },
  {
   "cell_type": "code",
   "execution_count": 8,
   "metadata": {},
   "outputs": [
    {
     "data": {
      "text/plain": [
       "(4, 4)"
      ]
     },
     "execution_count": 8,
     "metadata": {},
     "output_type": "execute_result"
    }
   ],
   "source": [
    "# base_model.modelDecoder.\n",
    "inChannels = (p_d.dimension + len(p_d.simFields) + len(p_d.simParams))\n",
    "outChannels = p_d.dimension + len(p_d.simFields) + len(p_d.simParams)\n",
    "inChannels, outChannels "
   ]
  },
  {
   "cell_type": "code",
   "execution_count": 9,
   "metadata": {},
   "outputs": [],
   "source": [
    "model_prova = Unet(dim=64, out_dim=outChannels, channels=inChannels, dim_mults=(1,1,1), use_convnext=True, convnext_mult=1, with_time_emb=False)"
   ]
  },
  {
   "cell_type": "code",
   "execution_count": 10,
   "metadata": {},
   "outputs": [
    {
     "data": {
      "text/plain": [
       "(1560222, 1)"
      ]
     },
     "execution_count": 10,
     "metadata": {},
     "output_type": "execute_result"
    }
   ],
   "source": [
    "evaluate_sparcity(model_prova)"
   ]
  },
  {
   "cell_type": "code",
   "execution_count": 19,
   "metadata": {},
   "outputs": [
    {
     "data": {
      "text/plain": [
       "Unet(\n",
       "  (init_conv): Conv2d(4, 42, kernel_size=(7, 7), stride=(1, 1), padding=(3, 3))\n",
       "  (downs): ModuleList(\n",
       "    (0): ModuleList(\n",
       "      (0): ConvNextBlock(\n",
       "        (ds_conv): Conv2d(42, 42, kernel_size=(7, 7), stride=(1, 1), padding=(3, 3), groups=42)\n",
       "        (net): Sequential(\n",
       "          (0): GroupNorm(1, 42, eps=1e-05, affine=True)\n",
       "          (1): Conv2d(42, 64, kernel_size=(3, 3), stride=(1, 1), padding=(1, 1))\n",
       "          (2): GELU(approximate='none')\n",
       "          (3): GroupNorm(1, 64, eps=1e-05, affine=True)\n",
       "          (4): Conv2d(64, 64, kernel_size=(3, 3), stride=(1, 1), padding=(1, 1))\n",
       "        )\n",
       "        (res_conv): Conv2d(42, 64, kernel_size=(1, 1), stride=(1, 1))\n",
       "      )\n",
       "      (1): ConvNextBlock(\n",
       "        (ds_conv): Conv2d(64, 64, kernel_size=(7, 7), stride=(1, 1), padding=(3, 3), groups=64)\n",
       "        (net): Sequential(\n",
       "          (0): GroupNorm(1, 64, eps=1e-05, affine=True)\n",
       "          (1): Conv2d(64, 64, kernel_size=(3, 3), stride=(1, 1), padding=(1, 1))\n",
       "          (2): GELU(approximate='none')\n",
       "          (3): GroupNorm(1, 64, eps=1e-05, affine=True)\n",
       "          (4): Conv2d(64, 64, kernel_size=(3, 3), stride=(1, 1), padding=(1, 1))\n",
       "        )\n",
       "        (res_conv): Identity()\n",
       "      )\n",
       "      (2): Residual(\n",
       "        (fn): PreNorm(\n",
       "          (fn): LinearAttention(\n",
       "            (to_qkv): Conv2d(64, 384, kernel_size=(1, 1), stride=(1, 1), bias=False)\n",
       "            (to_out): Sequential(\n",
       "              (0): Conv2d(128, 64, kernel_size=(1, 1), stride=(1, 1))\n",
       "              (1): GroupNorm(1, 64, eps=1e-05, affine=True)\n",
       "            )\n",
       "          )\n",
       "          (norm): GroupNorm(1, 64, eps=1e-05, affine=True)\n",
       "        )\n",
       "      )\n",
       "      (3): Conv2d(64, 64, kernel_size=(4, 4), stride=(2, 2), padding=(1, 1))\n",
       "    )\n",
       "    (1): ModuleList(\n",
       "      (0-1): 2 x ConvNextBlock(\n",
       "        (ds_conv): Conv2d(64, 64, kernel_size=(7, 7), stride=(1, 1), padding=(3, 3), groups=64)\n",
       "        (net): Sequential(\n",
       "          (0): GroupNorm(1, 64, eps=1e-05, affine=True)\n",
       "          (1): Conv2d(64, 64, kernel_size=(3, 3), stride=(1, 1), padding=(1, 1))\n",
       "          (2): GELU(approximate='none')\n",
       "          (3): GroupNorm(1, 64, eps=1e-05, affine=True)\n",
       "          (4): Conv2d(64, 64, kernel_size=(3, 3), stride=(1, 1), padding=(1, 1))\n",
       "        )\n",
       "        (res_conv): Identity()\n",
       "      )\n",
       "      (2): Residual(\n",
       "        (fn): PreNorm(\n",
       "          (fn): LinearAttention(\n",
       "            (to_qkv): Conv2d(64, 384, kernel_size=(1, 1), stride=(1, 1), bias=False)\n",
       "            (to_out): Sequential(\n",
       "              (0): Conv2d(128, 64, kernel_size=(1, 1), stride=(1, 1))\n",
       "              (1): GroupNorm(1, 64, eps=1e-05, affine=True)\n",
       "            )\n",
       "          )\n",
       "          (norm): GroupNorm(1, 64, eps=1e-05, affine=True)\n",
       "        )\n",
       "      )\n",
       "      (3): Conv2d(64, 64, kernel_size=(4, 4), stride=(2, 2), padding=(1, 1))\n",
       "    )\n",
       "    (2): ModuleList(\n",
       "      (0-1): 2 x ConvNextBlock(\n",
       "        (ds_conv): Conv2d(64, 64, kernel_size=(7, 7), stride=(1, 1), padding=(3, 3), groups=64)\n",
       "        (net): Sequential(\n",
       "          (0): GroupNorm(1, 64, eps=1e-05, affine=True)\n",
       "          (1): Conv2d(64, 64, kernel_size=(3, 3), stride=(1, 1), padding=(1, 1))\n",
       "          (2): GELU(approximate='none')\n",
       "          (3): GroupNorm(1, 64, eps=1e-05, affine=True)\n",
       "          (4): Conv2d(64, 64, kernel_size=(3, 3), stride=(1, 1), padding=(1, 1))\n",
       "        )\n",
       "        (res_conv): Identity()\n",
       "      )\n",
       "      (2): Residual(\n",
       "        (fn): PreNorm(\n",
       "          (fn): LinearAttention(\n",
       "            (to_qkv): Conv2d(64, 384, kernel_size=(1, 1), stride=(1, 1), bias=False)\n",
       "            (to_out): Sequential(\n",
       "              (0): Conv2d(128, 64, kernel_size=(1, 1), stride=(1, 1))\n",
       "              (1): GroupNorm(1, 64, eps=1e-05, affine=True)\n",
       "            )\n",
       "          )\n",
       "          (norm): GroupNorm(1, 64, eps=1e-05, affine=True)\n",
       "        )\n",
       "      )\n",
       "      (3): Identity()\n",
       "    )\n",
       "  )\n",
       "  (ups): ModuleList(\n",
       "    (0-1): 2 x ModuleList(\n",
       "      (0): ConvNextBlock(\n",
       "        (ds_conv): Conv2d(128, 128, kernel_size=(7, 7), stride=(1, 1), padding=(3, 3), groups=128)\n",
       "        (net): Sequential(\n",
       "          (0): GroupNorm(1, 128, eps=1e-05, affine=True)\n",
       "          (1): Conv2d(128, 64, kernel_size=(3, 3), stride=(1, 1), padding=(1, 1))\n",
       "          (2): GELU(approximate='none')\n",
       "          (3): GroupNorm(1, 64, eps=1e-05, affine=True)\n",
       "          (4): Conv2d(64, 64, kernel_size=(3, 3), stride=(1, 1), padding=(1, 1))\n",
       "        )\n",
       "        (res_conv): Conv2d(128, 64, kernel_size=(1, 1), stride=(1, 1))\n",
       "      )\n",
       "      (1): ConvNextBlock(\n",
       "        (ds_conv): Conv2d(64, 64, kernel_size=(7, 7), stride=(1, 1), padding=(3, 3), groups=64)\n",
       "        (net): Sequential(\n",
       "          (0): GroupNorm(1, 64, eps=1e-05, affine=True)\n",
       "          (1): Conv2d(64, 64, kernel_size=(3, 3), stride=(1, 1), padding=(1, 1))\n",
       "          (2): GELU(approximate='none')\n",
       "          (3): GroupNorm(1, 64, eps=1e-05, affine=True)\n",
       "          (4): Conv2d(64, 64, kernel_size=(3, 3), stride=(1, 1), padding=(1, 1))\n",
       "        )\n",
       "        (res_conv): Identity()\n",
       "      )\n",
       "      (2): Residual(\n",
       "        (fn): PreNorm(\n",
       "          (fn): LinearAttention(\n",
       "            (to_qkv): Conv2d(64, 384, kernel_size=(1, 1), stride=(1, 1), bias=False)\n",
       "            (to_out): Sequential(\n",
       "              (0): Conv2d(128, 64, kernel_size=(1, 1), stride=(1, 1))\n",
       "              (1): GroupNorm(1, 64, eps=1e-05, affine=True)\n",
       "            )\n",
       "          )\n",
       "          (norm): GroupNorm(1, 64, eps=1e-05, affine=True)\n",
       "        )\n",
       "      )\n",
       "      (3): ConvTranspose2d(64, 64, kernel_size=(4, 4), stride=(2, 2), padding=(1, 1))\n",
       "    )\n",
       "  )\n",
       "  (mid_block1): ConvNextBlock(\n",
       "    (ds_conv): Conv2d(64, 64, kernel_size=(7, 7), stride=(1, 1), padding=(3, 3), groups=64)\n",
       "    (net): Sequential(\n",
       "      (0): GroupNorm(1, 64, eps=1e-05, affine=True)\n",
       "      (1): Conv2d(64, 64, kernel_size=(3, 3), stride=(1, 1), padding=(1, 1))\n",
       "      (2): GELU(approximate='none')\n",
       "      (3): GroupNorm(1, 64, eps=1e-05, affine=True)\n",
       "      (4): Conv2d(64, 64, kernel_size=(3, 3), stride=(1, 1), padding=(1, 1))\n",
       "    )\n",
       "    (res_conv): Identity()\n",
       "  )\n",
       "  (mid_attn): Residual(\n",
       "    (fn): PreNorm(\n",
       "      (fn): Attention(\n",
       "        (to_qkv): Conv2d(64, 384, kernel_size=(1, 1), stride=(1, 1), bias=False)\n",
       "        (to_out): Conv2d(128, 64, kernel_size=(1, 1), stride=(1, 1))\n",
       "      )\n",
       "      (norm): GroupNorm(1, 64, eps=1e-05, affine=True)\n",
       "    )\n",
       "  )\n",
       "  (mid_block2): ConvNextBlock(\n",
       "    (ds_conv): Conv2d(64, 64, kernel_size=(7, 7), stride=(1, 1), padding=(3, 3), groups=64)\n",
       "    (net): Sequential(\n",
       "      (0): GroupNorm(1, 64, eps=1e-05, affine=True)\n",
       "      (1): Conv2d(64, 64, kernel_size=(3, 3), stride=(1, 1), padding=(1, 1))\n",
       "      (2): GELU(approximate='none')\n",
       "      (3): GroupNorm(1, 64, eps=1e-05, affine=True)\n",
       "      (4): Conv2d(64, 64, kernel_size=(3, 3), stride=(1, 1), padding=(1, 1))\n",
       "    )\n",
       "    (res_conv): Identity()\n",
       "  )\n",
       "  (final_conv): Sequential(\n",
       "    (0): ConvNextBlock(\n",
       "      (ds_conv): Conv2d(64, 64, kernel_size=(7, 7), stride=(1, 1), padding=(3, 3), groups=64)\n",
       "      (net): Sequential(\n",
       "        (0): GroupNorm(1, 64, eps=1e-05, affine=True)\n",
       "        (1): Conv2d(64, 64, kernel_size=(3, 3), stride=(1, 1), padding=(1, 1))\n",
       "        (2): GELU(approximate='none')\n",
       "        (3): GroupNorm(1, 64, eps=1e-05, affine=True)\n",
       "        (4): Conv2d(64, 64, kernel_size=(3, 3), stride=(1, 1), padding=(1, 1))\n",
       "      )\n",
       "      (res_conv): Identity()\n",
       "    )\n",
       "    (1): Conv2d(64, 4, kernel_size=(1, 1), stride=(1, 1))\n",
       "  )\n",
       ")"
      ]
     },
     "execution_count": 19,
     "metadata": {},
     "output_type": "execute_result"
    }
   ],
   "source": [
    "model_prova"
   ]
  },
  {
   "cell_type": "code",
   "execution_count": null,
   "metadata": {},
   "outputs": [],
   "source": [
    "for name, p in model_prova.named_parameters():\n",
    "    print(name, type(p).__name__)\n",
    "\n",
    "    plt.hist(p.detach().flatten())\n",
    "    plt.show()"
   ]
  },
  {
   "cell_type": "markdown",
   "metadata": {},
   "source": [
    "# Testing"
   ]
  },
  {
   "cell_type": "code",
   "execution_count": 29,
   "metadata": {},
   "outputs": [],
   "source": [
    "p_d = DataParams(batch=32, augmentations=[\"normalize\"], sequenceLength=[2,2], randSeqOffset=True,\n",
    "            dataSize=[104,52], dimension=2, simFields=[\"pres\"], simParams=[\"rey\"], normalizeMode=\"incMixed\")\n",
    "p_t = TrainingParams(epochs=1000, lr=0.0001)\n",
    "p_l = LossParams(recMSE=0.0, predMSE=1.0)\n",
    "p_me = None\n",
    "p_ml = None\n",
    "p_md = ModelParamsDecoder(arch=\"unet\", pretrained=True, trainingNoise=0.0, convnext_mult=4)\n",
    "pruned_pretrainPath = \"../runs/2D_Inc/128_unet-m2_101/Model.pth\"\n",
    "pruned_model = PredictionModel(p_d, p_t, p_l, p_me, p_md, p_ml, pruned_pretrainPath)"
   ]
  },
  {
   "cell_type": "code",
   "execution_count": 30,
   "metadata": {},
   "outputs": [],
   "source": [
    "data_folder = \"../data\"\n",
    "\n",
    "testSets = {\n",
    "    \"lowRey\":\n",
    "        TurbulenceDataset(\"Test Low Reynolds 100-200\", [data_folder], filterTop=[\"128_inc\"], filterSim=[[82,84,86,88,90]],\n",
    "                filterFrame=[(1000,1150)], sequenceLength=[[60,2]], simFields=p_d.simFields, simParams=p_d.simParams, printLevel=\"sim\"),\n",
    "    \"highRey\" :\n",
    "        TurbulenceDataset(\"Test High Reynolds 900-1000\", [data_folder], filterTop=[\"128_inc\"], filterSim=[[0,2,4,6,8]],\n",
    "                filterFrame=[(1000,1150)], sequenceLength=[[60,2]], simFields=p_d.simFields, simParams=p_d.simParams, printLevel=\"sim\"),\n",
    "}"
   ]
  },
  {
   "cell_type": "code",
   "execution_count": 54,
   "metadata": {},
   "outputs": [
    {
     "name": "stdout",
     "output_type": "stream",
     "text": [
      "Loading model from src/lsim/models/LSiM.pth\n",
      "Loading model from ../src/lsim/models/LSiM.pth\n",
      "Evaluating model 83\n"
     ]
    },
    {
     "name": "stdout",
     "output_type": "stream",
     "text": [
      "Full loss: 0.9343099594116211\n",
      "Full loss: 0.9344780445098877\n",
      "Full loss: 0.929153561592102\n",
      "Full loss: 0.9221985340118408\n",
      "Full loss: 0.9004448652267456\n",
      "Evaluating model 84\n",
      "Full loss: 0.8880237936973572\n",
      "Full loss: 0.8820787668228149\n",
      "Full loss: 0.8748866319656372\n",
      "Full loss: 0.8652160167694092\n",
      "Full loss: 0.8579360842704773\n",
      "Evaluating model 91\n",
      "Full loss: 0.9542229771614075\n",
      "Full loss: 0.9480626583099365\n",
      "Full loss: 0.9407094717025757\n",
      "Full loss: 0.9309440851211548\n",
      "Full loss: 0.9181463718414307\n",
      "Evaluating model 92\n",
      "Full loss: 0.988497257232666\n",
      "Full loss: 0.9955927729606628\n",
      "Full loss: 0.9934762716293335\n",
      "Full loss: 0.9870315790176392\n",
      "Full loss: 0.9756869077682495\n",
      "Evaluating model 93\n",
      "Full loss: 1.260959506034851\n",
      "Full loss: 1.3268840312957764\n",
      "Full loss: 1.3342924118041992\n",
      "Full loss: 1.3149387836456299\n",
      "Full loss: 1.2852391004562378\n",
      "Evaluating model 94\n",
      "Full loss: 0.9740149974822998\n",
      "Full loss: 0.9670923948287964\n",
      "Full loss: 0.9610546827316284\n",
      "Full loss: 0.9517202377319336\n",
      "Full loss: 0.9436724185943604\n",
      "Evaluating model 95\n",
      "Full loss: 0.8807079792022705\n",
      "Full loss: 0.876541256904602\n",
      "Full loss: 0.8700186014175415\n",
      "Full loss: 0.8488067388534546\n",
      "Full loss: 0.8283774256706238\n",
      "Evaluating model 96\n",
      "Full loss: 0.94538813829422\n",
      "Full loss: 0.944610059261322\n",
      "Full loss: 0.9193646907806396\n",
      "Full loss: 0.9354637265205383\n",
      "Full loss: 0.9248900413513184\n"
     ]
    }
   ],
   "source": [
    "testers = []\n",
    "testHistories = []\n",
    "\n",
    "criterion = PredictionLoss(p_l, p_d.dimension, p_d.simFields, useGPU=True)\n",
    "\n",
    "testSet = testSets[\"highRey\"]\n",
    "\n",
    "p_d_test = copy.deepcopy(p_d)\n",
    "p_d_test.augmentations = [\"normalize\"]\n",
    "p_d_test.sequenceLength = testSet.sequenceLength\n",
    "p_d_test.randSeqOffset = False\n",
    "if p_d.sequenceLength[0] != p_d_test.sequenceLength[0]:\n",
    "    p_d_test.batch = 1\n",
    "\n",
    "transTest = Transforms(p_d_test)\n",
    "testSet.transform = transTest\n",
    "testSampler = SequentialSampler(testSet)\n",
    "testLoader = DataLoader(testSet, sampler=testSampler,\n",
    "                batch_size=p_d_test.batch, drop_last=False, num_workers=4)\n",
    "\n",
    "avg_mse = torch.zeros(60)\n",
    "avg_lsim = torch.zeros(60)\n",
    "\n",
    "models_42_pruned = [85,86,103,104,105,106,107,108]\n",
    "models_70_pruned = [89,90,97,98,99,100,101,102] \n",
    "models_ref = [83,84,91,92,93,94,95,96]\n",
    "\n",
    "for model_id in models_ref:\n",
    "    print(\"Evaluating model\", model_id)\n",
    "    p_md = ModelParamsDecoder(arch=\"unet\", pretrained=True, trainingNoise=0.0, convnext_mult=1)\n",
    "    pruned_pretrainPath = f\"../runs/2D_Inc/128_unet-m2_{model_id}/Model.pth\"\n",
    "    pruned_model = PredictionModel(p_d, p_t, p_l, p_me, p_md, p_ml, pruned_pretrainPath)\n",
    "\n",
    "    model_mse = torch.zeros(60)\n",
    "    model_lsim = torch.zeros(60)\n",
    "    pruned_model.eval()\n",
    "\n",
    "    with torch.no_grad():\n",
    "        for s, sample in enumerate(testLoader, 0):\n",
    "            device = \"cuda\"\n",
    "            data = sample[\"data\"].to(device)\n",
    "            simParameters = sample[\"simParameters\"].to(device) if type(sample[\"simParameters\"]) is not dict else None\n",
    "            if \"obsMask\" in sample is not None:\n",
    "                obsMask = sample[\"obsMask\"].to(device)\n",
    "                obsMask = torch.unsqueeze(torch.unsqueeze(obsMask, 1), 2)\n",
    "            else:\n",
    "                obsMask = None\n",
    "\n",
    "            prediction, latentSpace, vaeMeanVar = pruned_model(data, simParameters, useLatent=True)\n",
    "\n",
    "            if obsMask is not None:\n",
    "                prediction = prediction * obsMask\n",
    "                data       = data * obsMask\n",
    "\n",
    "            _, lossParts, lossSeq = criterion(prediction, data, latentSpace, vaeMeanVar, weighted=False, noLSIM=p_t.noLSIM)\n",
    "\n",
    "            print(\"Full loss:\", lossParts[\"lossFull\"].item())\n",
    "            model_mse += lossSeq[\"MSE\"].cpu() \n",
    "            model_lsim += lossSeq[\"LSIM\"].cpu() \n",
    "\n",
    "    avg_mse += model_mse / len(testLoader)\n",
    "    avg_lsim += model_lsim / len(testLoader)\n"
   ]
  },
  {
   "cell_type": "code",
   "execution_count": null,
   "metadata": {},
   "outputs": [],
   "source": []
  },
  {
   "cell_type": "code",
   "execution_count": 56,
   "metadata": {},
   "outputs": [
    {
     "data": {
      "image/png": "[encoded data removed]",
      "text/plain": [
       "<Figure size 640x480 with 1 Axes>"
      ]
     },
     "metadata": {},
     "output_type": "display_data"
    },
    {
     "data": {
      "image/png": "[encoded data removed]",
      "text/plain": [
       "<Figure size 640x480 with 1 Axes>"
      ]
     },
     "metadata": {},
     "output_type": "display_data"
    }
   ],
   "source": [
    "# avg_mse_70  = avg_mse / len(models_70_pruned)\n",
    "# avg_lsim_70 = avg_lsim / len(models_70_pruned)\n",
    "\n",
    "avg_mse_ref  = avg_mse / len(models_ref)\n",
    "avg_lsim_ref = avg_lsim / len(models_ref)\n",
    "\n",
    "# avg_mse_42  = avg_mse / len(models_42_pruned)\n",
    "# avg_lsim_42 = avg_lsim / len(models_42_pruned)\n",
    "\n",
    "plt.title(\"Time evolution of MSE in High Reynolds test\")\n",
    "plt.plot(avg_mse_ref, label=\"ref\")\n",
    "plt.plot(avg_mse_70, label=\"70% pruned\")\n",
    "plt.plot(avg_mse_42, label=\"42% pruned\")\n",
    "plt.legend()\n",
    "plt.show()\n",
    "\n",
    "plt.title(\"Time evolution of LSIM in High Reynolds test\")\n",
    "plt.plot(avg_lsim_ref, label=\"ref\")\n",
    "plt.plot(avg_lsim_70, label=\"70% pruned\")\n",
    "plt.plot(avg_lsim_42, label=\"42% pruned\")\n",
    "plt.legend()\n",
    "plt.show()\n"
   ]
  },
  {
   "cell_type": "code",
   "execution_count": null,
   "metadata": {},
   "outputs": [],
   "source": []
  }
 ],
 "metadata": {
  "kernelspec": {
   "display_name": "Python 3",
   "language": "python",
   "name": "python3"
  },
  "language_info": {
   "codemirror_mode": {
    "name": "ipython",
    "version": 3
   },
   "file_extension": ".py",
   "mimetype": "text/x-python",
   "name": "python",
   "nbconvert_exporter": "python",
   "pygments_lexer": "ipython3",
   "version": "3.10.12"
  }
 },
 "nbformat": 4,
 "nbformat_minor": 2
}
